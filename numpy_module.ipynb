{
 "cells": [
  {
   "cell_type": "markdown",
   "metadata": {},
   "source": [
    "# Numpy module"
   ]
  },
  {
   "cell_type": "code",
   "execution_count": 2,
   "metadata": {},
   "outputs": [],
   "source": [
    "# Import module\n",
    "import numpy as np"
   ]
  },
  {
   "cell_type": "code",
   "execution_count": 7,
   "metadata": {},
   "outputs": [
    {
     "data": {
      "text/plain": [
       "[1, 2, 3, 1, 2, 3, 1, 2, 3]"
      ]
     },
     "execution_count": 7,
     "metadata": {},
     "output_type": "execute_result"
    }
   ],
   "source": [
    "A = [1,2,3]\n",
    "\n",
    "A*3  # This will repeat A three times\n",
    "\n",
    "# because python by default does not recognize multiplication. So to perform multiplication, we need to \n",
    "# define the array as a numpy array"
   ]
  },
  {
   "cell_type": "code",
   "execution_count": 8,
   "metadata": {},
   "outputs": [],
   "source": [
    "A = np.array([1,2,3,4])\n",
    "B = np.array([5,6,7,8])"
   ]
  },
  {
   "cell_type": "code",
   "execution_count": 10,
   "metadata": {},
   "outputs": [
    {
     "data": {
      "text/plain": [
       "array([ 3,  6,  9, 12])"
      ]
     },
     "execution_count": 10,
     "metadata": {},
     "output_type": "execute_result"
    }
   ],
   "source": [
    "A*3 # Now it works because we defined A as a bumpy array"
   ]
  },
  {
   "cell_type": "code",
   "execution_count": 11,
   "metadata": {},
   "outputs": [
    {
     "data": {
      "text/plain": [
       "array([ 5, 12, 21, 32])"
      ]
     },
     "execution_count": 11,
     "metadata": {},
     "output_type": "execute_result"
    }
   ],
   "source": [
    "A*B"
   ]
  },
  {
   "cell_type": "code",
   "execution_count": 18,
   "metadata": {},
   "outputs": [],
   "source": [
    "A = np.array([1,2,3,4], dtype = 'float64') # dtype specify data type. I f you do no specify,\n",
    "#python will interpret it as it wants\n",
    "\n",
    "B = np.array([5,6,7,8], dtype = 'int')"
   ]
  },
  {
   "cell_type": "code",
   "execution_count": 19,
   "metadata": {},
   "outputs": [
    {
     "name": "stdout",
     "output_type": "stream",
     "text": [
      "[ 6.  8. 10. 12.]\n",
      "[-4. -4. -4. -4.]\n",
      "[0.2        0.33333333 0.42857143 0.5       ]\n",
      "[ 5. 12. 21. 32.]\n",
      "[5.09901951 6.32455532 7.61577311 8.94427191]\n"
     ]
    },
    {
     "data": {
      "text/plain": [
       "26"
      ]
     },
     "execution_count": 19,
     "metadata": {},
     "output_type": "execute_result"
    }
   ],
   "source": [
    "print(A+B)\n",
    "print(A-B)\n",
    "print(A/B)\n",
    "print(A*B)\n",
    "print(np.sqrt(A**2 + B**2))\n",
    "A.sum()\n",
    "B.sum()"
   ]
  },
  {
   "cell_type": "code",
   "execution_count": 22,
   "metadata": {},
   "outputs": [
    {
     "name": "stdout",
     "output_type": "stream",
     "text": [
      "[[1 2 3]\n",
      " [4 5 6]]\n",
      "[[0.3  0.78]\n",
      " [0.2  0.1 ]\n",
      " [0.5  0.1 ]]\n"
     ]
    }
   ],
   "source": [
    "# Linear Algebra not product\n",
    "\n",
    "o = np.array([[1,2,3,], [4,5,6,]]) # 2* 3 matrice\n",
    "w = np.array([[0.3,0.78], [0.2, 0.1],[0.5,0.1]]) # 3 * 2 matrice\n",
    "\n",
    "print(o)\n",
    "print(w)"
   ]
  },
  {
   "cell_type": "code",
   "execution_count": 23,
   "metadata": {},
   "outputs": [
    {
     "data": {
      "text/plain": [
       "array([[2.2 , 1.28],\n",
       "       [5.2 , 4.22]])"
      ]
     },
     "execution_count": 23,
     "metadata": {},
     "output_type": "execute_result"
    }
   ],
   "source": [
    "# performing a dot product\n",
    "\n",
    "np.dot(o,w)"
   ]
  },
  {
   "cell_type": "code",
   "execution_count": 24,
   "metadata": {},
   "outputs": [
    {
     "name": "stdout",
     "output_type": "stream",
     "text": [
      "(4,)\n",
      "1\n",
      "float64\n",
      "4\n"
     ]
    }
   ],
   "source": [
    "# Checking the properties \n",
    "print(A.shape)\n",
    "print(A.ndim)\n",
    "print(A.dtype)\n",
    "print(A.size)"
   ]
  },
  {
   "cell_type": "code",
   "execution_count": 25,
   "metadata": {},
   "outputs": [
    {
     "name": "stdout",
     "output_type": "stream",
     "text": [
      "(2, 3)\n",
      "2\n",
      "int32\n",
      "6\n"
     ]
    }
   ],
   "source": [
    "print(o.shape) # gives dimensions\n",
    "print(o.ndim)\n",
    "print(o.dtype)\n",
    "print(o.size) # size tells number of elements"
   ]
  },
  {
   "cell_type": "code",
   "execution_count": 31,
   "metadata": {},
   "outputs": [
    {
     "data": {
      "text/plain": [
       "array([[[1, 2],\n",
       "        [3, 4]],\n",
       "\n",
       "       [[5, 6],\n",
       "        [7, 8]]])"
      ]
     },
     "execution_count": 31,
     "metadata": {},
     "output_type": "execute_result"
    }
   ],
   "source": [
    "# changing the dimensions of an array\n",
    "\n",
    "D = np.array([[1,2,3,4],[5,6,7,8]])\n",
    "#print(D)\n",
    "\n",
    "D.reshape(4,2)\n",
    "\n",
    "D.reshape(2,2,2) #This a three dimensional array of two columns and rows"
   ]
  },
  {
   "cell_type": "code",
   "execution_count": 36,
   "metadata": {},
   "outputs": [
    {
     "name": "stdout",
     "output_type": "stream",
     "text": [
      "[False False  True False]\n",
      "[ True False False False]\n"
     ]
    }
   ],
   "source": [
    "idx1 = A ==3\n",
    "print(idx1)\n",
    "\n",
    "idx2 = A ==1\n",
    "print(idx2)"
   ]
  },
  {
   "cell_type": "code",
   "execution_count": 38,
   "metadata": {},
   "outputs": [
    {
     "data": {
      "text/plain": [
       "array([False, False, False, False])"
      ]
     },
     "execution_count": 38,
     "metadata": {},
     "output_type": "execute_result"
    }
   ],
   "source": [
    "idx1 & idx2 # index 1  and index 2"
   ]
  },
  {
   "cell_type": "code",
   "execution_count": 40,
   "metadata": {},
   "outputs": [
    {
     "name": "stderr",
     "output_type": "stream",
     "text": [
      "C:\\Users\\Parker\\Anaconda3\\lib\\site-packages\\ipykernel_launcher.py:1: RuntimeWarning: divide by zero encountered in true_divide\n",
      "  \"\"\"Entry point for launching an IPython kernel.\n",
      "C:\\Users\\Parker\\Anaconda3\\lib\\site-packages\\ipykernel_launcher.py:1: RuntimeWarning: invalid value encountered in true_divide\n",
      "  \"\"\"Entry point for launching an IPython kernel.\n"
     ]
    },
    {
     "data": {
      "text/plain": [
       "array([ 0., nan, inf, nan])"
      ]
     },
     "execution_count": 40,
     "metadata": {},
     "output_type": "execute_result"
    }
   ],
   "source": [
    "idx1  idx2 #index 1 or index 2"
   ]
  },
  {
   "cell_type": "markdown",
   "metadata": {},
   "source": [
    "## challenge"
   ]
  },
  {
   "cell_type": "code",
   "execution_count": 42,
   "metadata": {},
   "outputs": [
    {
     "name": "stdout",
     "output_type": "stream",
     "text": [
      "[[5 0 3 3 7]\n",
      " [9 3 5 2 4]\n",
      " [7 6 8 8 1]\n",
      " [6 7 7 8 1]\n",
      " [5 9 8 9 4]]\n"
     ]
    }
   ],
   "source": [
    "np.random.seed(0)\n",
    "M = np.random.randint(0,10,[5,5])\n",
    "print(M)"
   ]
  },
  {
   "cell_type": "code",
   "execution_count": 60,
   "metadata": {},
   "outputs": [
    {
     "name": "stdout",
     "output_type": "stream",
     "text": [
      "[5 0 3 3 7]\n",
      "[5 9 8 9 4]\n",
      "[5 9 7 6 5]\n",
      "[7 4 1 1 4]\n",
      "[[3 3 7]\n",
      " [5 2 4]\n",
      " [8 8 1]]\n"
     ]
    }
   ],
   "source": [
    "top_row = M[0] # Top row\n",
    "print(top_row)\n",
    "\n",
    "bottom_row = M[len(M)-1] # bottom row\n",
    "print(bottom_row)\n",
    "\n",
    "left_column = M[:,0] # left_column = M[:,0] \n",
    "print(left_column)\n",
    "\n",
    "right_column = M[:,len(M)-1] # right column\n",
    "print(right_column)\n",
    "\n",
    "UR_3by3 = M[0:3, 2:len(M)] # Upper right 3 by 3 matrice\n",
    "print(UR_3by3)"
   ]
  },
  {
   "cell_type": "code",
   "execution_count": 59,
   "metadata": {},
   "outputs": [
    {
     "name": "stdout",
     "output_type": "stream",
     "text": [
      "[[3 3 7]\n",
      " [5 2 4]\n",
      " [8 8 1]]\n"
     ]
    }
   ],
   "source": []
  },
  {
   "cell_type": "code",
   "execution_count": 61,
   "metadata": {},
   "outputs": [
    {
     "data": {
      "text/plain": [
       "array([ 6.10965808,  5.83418582,  8.73519768,  4.48710434,  5.78266925,\n",
       "        2.86476065, -1.38247454,  6.63404649,  7.1610905 ,  3.14458745,\n",
       "       10.67438656,  1.36408581,  5.11439629,  4.53204037,  8.83194804,\n",
       "        8.67339692,  5.38736856,  5.9454063 ,  2.78053563,  0.04800883,\n",
       "        4.13021963,  5.39087242,  8.0757267 ,  8.00594962,  4.03168296,\n",
       "        4.24424312,  2.37861759,  1.44995516,  0.73432452,  9.87693849,\n",
       "        3.72586955,  3.90481425,  1.8680116 ,  6.94372589,  0.96525538,\n",
       "        4.4681493 ,  2.7613336 ,  5.96725624,  3.72298716,  2.04841954,\n",
       "        4.92954443,  6.07082968,  5.16629306,  5.75617974,  3.41419477,\n",
       "        4.09314709,  3.31884888,  4.1011171 ,  2.96713429,  0.68429349,\n",
       "        5.44356536,  3.99554766,  0.92450413,  6.15695564,  2.73175409,\n",
       "        5.12986349,  6.82272641,  5.32245728,  7.84850171,  1.91293545,\n",
       "        6.0058541 ,  3.28797477,  2.82300713,  3.55287584,  4.22111867,\n",
       "        5.14041336,  2.0871254 ,  7.25206622,  6.1641561 ,  1.15939078,\n",
       "        8.72063048,  9.73972294,  7.94694893,  4.55018791,  2.32311845,\n",
       "        7.63612932,  3.99205763,  8.05611268,  5.52068745,  7.44159759,\n",
       "        5.89091599,  6.76643292,  5.02625005,  9.46467623,  5.31728023,\n",
       "        6.00497341,  9.70787674,  1.63060235,  1.8237875 ,  7.42349177,\n",
       "        2.06719149,  9.85905296,  3.96595255,  3.13136297,  9.80735507,\n",
       "        8.70128698,  9.6688974 ,  7.26511165,  2.84693579,  9.77516238])"
      ]
     },
     "execution_count": 61,
     "metadata": {},
     "output_type": "execute_result"
    }
   ],
   "source": [
    "# Generating values in a random normal distribution with mean of 5 and standard deviation of 2.5 \n",
    "mu =5 \n",
    "sigma = 2.5\n",
    "np.random.normal(mu,sigma, 100)"
   ]
  },
  {
   "cell_type": "code",
   "execution_count": 69,
   "metadata": {},
   "outputs": [
    {
     "data": {
      "text/plain": [
       "array([[0., 0., 0.],\n",
       "       [0., 0., 0.],\n",
       "       [0., 0., 0.],\n",
       "       [0., 0., 0.],\n",
       "       [0., 0., 0.]])"
      ]
     },
     "execution_count": 69,
     "metadata": {},
     "output_type": "execute_result"
    }
   ],
   "source": [
    "# Generating zeros values of 5 by 3 matrices\n",
    "\n",
    "np.zeros([5,3])"
   ]
  },
  {
   "cell_type": "code",
   "execution_count": 70,
   "metadata": {},
   "outputs": [
    {
     "data": {
      "text/plain": [
       "array([[1., 1., 1.],\n",
       "       [1., 1., 1.],\n",
       "       [1., 1., 1.],\n",
       "       [1., 1., 1.],\n",
       "       [1., 1., 1.]])"
      ]
     },
     "execution_count": 70,
     "metadata": {},
     "output_type": "execute_result"
    }
   ],
   "source": [
    "# Generating Ones of 5 by 3 matrices\n",
    "np.ones([5,3])"
   ]
  },
  {
   "cell_type": "code",
   "execution_count": 71,
   "metadata": {},
   "outputs": [
    {
     "data": {
      "text/plain": [
       "array([[nan, nan, nan],\n",
       "       [nan, nan, nan],\n",
       "       [nan, nan, nan],\n",
       "       [nan, nan, nan],\n",
       "       [nan, nan, nan]])"
      ]
     },
     "execution_count": 71,
     "metadata": {},
     "output_type": "execute_result"
    }
   ],
   "source": [
    "# Generating NaN values of 5 by 3 matrices\n",
    "\n",
    "np.ones([5,3])* np.nan"
   ]
  },
  {
   "cell_type": "code",
   "execution_count": 72,
   "metadata": {},
   "outputs": [
    {
     "ename": "NameError",
     "evalue": "name 'N' is not defined",
     "output_type": "error",
     "traceback": [
      "\u001b[1;31m---------------------------------------------------------------------------\u001b[0m",
      "\u001b[1;31mNameError\u001b[0m                                 Traceback (most recent call last)",
      "\u001b[1;32m<ipython-input-72-7acae491ac62>\u001b[0m in \u001b[0;36m<module>\u001b[1;34m\u001b[0m\n\u001b[1;32m----> 1\u001b[1;33m \u001b[0mlat\u001b[0m \u001b[1;33m=\u001b[0m \u001b[0mnp\u001b[0m\u001b[1;33m.\u001b[0m\u001b[0mlinspace\u001b[0m\u001b[1;33m[\u001b[0m\u001b[1;36m36\u001b[0m\u001b[1;33m,\u001b[0m \u001b[1;36m40\u001b[0m\u001b[1;33m,\u001b[0m \u001b[0mN\u001b[0m\u001b[1;33m]\u001b[0m\u001b[1;33m\u001b[0m\u001b[1;33m\u001b[0m\u001b[0m\n\u001b[0m\u001b[0;32m      2\u001b[0m \u001b[0mlon\u001b[0m \u001b[1;33m=\u001b[0m \u001b[0mnp\u001b[0m\u001b[1;33m.\u001b[0m\u001b[0mlinspace\u001b[0m\u001b[1;33m[\u001b[0m\u001b[1;33m-\u001b[0m\u001b[1;36m102\u001b[0m\u001b[1;33m,\u001b[0m \u001b[1;33m-\u001b[0m\u001b[1;36m98\u001b[0m\u001b[1;33m,\u001b[0m \u001b[0mW\u001b[0m\u001b[1;33m]\u001b[0m\u001b[1;33m\u001b[0m\u001b[1;33m\u001b[0m\u001b[0m\n",
      "\u001b[1;31mNameError\u001b[0m: name 'N' is not defined"
     ]
    }
   ],
   "source": [
    "lat = np.linspace[36, 40, N]\n",
    "lon = np.linspace[-102, -98, W]"
   ]
  },
  {
   "cell_type": "code",
   "execution_count": null,
   "metadata": {},
   "outputs": [],
   "source": []
  },
  {
   "cell_type": "code",
   "execution_count": null,
   "metadata": {},
   "outputs": [],
   "source": []
  },
  {
   "cell_type": "code",
   "execution_count": null,
   "metadata": {},
   "outputs": [],
   "source": []
  },
  {
   "cell_type": "code",
   "execution_count": null,
   "metadata": {},
   "outputs": [],
   "source": [
    "\n"
   ]
  },
  {
   "cell_type": "code",
   "execution_count": null,
   "metadata": {},
   "outputs": [],
   "source": []
  },
  {
   "cell_type": "code",
   "execution_count": 73,
   "metadata": {},
   "outputs": [],
   "source": [
    "import matplotlib.pyplot as plt"
   ]
  },
  {
   "cell_type": "code",
   "execution_count": 85,
   "metadata": {},
   "outputs": [],
   "source": [
    "T_avg = 15 # celcius\n",
    "T_amp = 10 \n",
    "doy = np.arange(1,366) # day of year\n",
    "\n",
    "x = 2*np.pi * doy/365\n",
    "y = T_avg + T_amp*np.sin(x)  #Air temperature\n",
    "\n",
    "noise = np.random.normal(0,3, x.size)\n",
    "y_noise = y + noise"
   ]
  },
  {
   "cell_type": "code",
   "execution_count": 87,
   "metadata": {},
   "outputs": [
    {
     "data": {
      "text/plain": [
       "[<matplotlib.lines.Line2D at 0x24c8fb2ff48>]"
      ]
     },
     "execution_count": 87,
     "metadata": {},
     "output_type": "execute_result"
    },
    {
     "data": {
      "image/png": "[encoded data removed]",
      "text/plain": [
       "<Figure size 432x288 with 1 Axes>"
      ]
     },
     "metadata": {
      "needs_background": "light"
     },
     "output_type": "display_data"
    }
   ],
   "source": [
    "plt.plot(x,y)\n",
    "plt.plot(x,y_noise)"
   ]
  },
  {
   "cell_type": "code",
   "execution_count": 93,
   "metadata": {},
   "outputs": [
    {
     "data": {
      "text/plain": [
       "array([  1,   2,   3,   4,   5,   6,   7,   8,   9,  10,  11,  12,  13,\n",
       "        14,  15,  16,  17,  18,  19,  20,  21,  22,  23,  24,  25,  26,\n",
       "        27,  28,  29,  30,  31,  32,  33,  34,  35,  36,  37,  38,  39,\n",
       "        40,  41,  42,  43,  44,  45,  46,  47,  48,  49,  50,  51,  52,\n",
       "        53,  54,  55,  56,  57,  58,  59,  60,  61,  62,  63,  64,  65,\n",
       "        66,  67,  68,  69,  70,  71,  72,  73,  74,  75,  76,  77,  78,\n",
       "        79,  80,  81,  82,  83,  84,  85,  86,  87,  88,  89,  90,  91,\n",
       "        92,  93,  94,  95,  96,  97,  98,  99, 100, 101, 102, 103, 104,\n",
       "       105, 106, 107, 108, 109, 110, 111, 112, 113, 114, 115, 116, 117,\n",
       "       118, 119, 120, 121, 122, 123, 124, 125, 126, 127, 128, 129, 130,\n",
       "       131, 132, 133, 134, 135, 136, 137, 138, 139, 140, 141, 142, 143,\n",
       "       144, 145, 146, 147, 148, 149, 150, 151, 152, 153, 154, 155, 156,\n",
       "       157, 158, 159, 160, 161, 162, 163, 164, 165, 166, 167, 168, 169,\n",
       "       170, 171, 172, 173, 174, 175, 176, 177, 178, 179, 180, 181, 182,\n",
       "       183, 184, 185, 186, 187, 188, 189, 190, 191, 192, 193, 194, 195,\n",
       "       196, 197, 198, 199, 200, 201, 202, 203, 204, 205, 206, 207, 208,\n",
       "       209, 210, 211, 212, 213, 214, 215, 216, 217, 218, 219, 220, 221,\n",
       "       222, 223, 224, 225, 226, 227, 228, 229, 230, 231, 232, 233, 234,\n",
       "       235, 236, 237, 238, 239, 240, 241, 242, 243, 244, 245, 246, 247,\n",
       "       248, 249, 250, 251, 252, 253, 254, 255, 256, 257, 258, 259, 260,\n",
       "       261, 262, 263, 264, 265, 266, 267, 268, 269, 270, 271, 272, 273,\n",
       "       274, 275, 276, 277, 278, 279, 280, 281, 282, 283, 284, 285, 286,\n",
       "       287, 288, 289, 290, 291, 292, 293, 294, 295, 296, 297, 298, 299,\n",
       "       300, 301, 302, 303, 304, 305, 306, 307, 308, 309, 310, 311, 312,\n",
       "       313, 314, 315, 316, 317, 318, 319, 320, 321, 322, 323, 324, 325,\n",
       "       326, 327, 328, 329, 330, 331, 332, 333, 334, 335, 336, 337, 338,\n",
       "       339, 340, 341, 342, 343, 344, 345, 346, 347, 348, 349, 350, 351,\n",
       "       352, 353, 354, 355, 356, 357, 358, 359, 360, 361, 362, 363, 364,\n",
       "       365])"
      ]
     },
     "execution_count": 93,
     "metadata": {},
     "output_type": "execute_result"
    }
   ],
   "source": [
    "\n"
   ]
  },
  {
   "cell_type": "code",
   "execution_count": null,
   "metadata": {},
   "outputs": [],
   "source": []
  }
 ],
 "metadata": {
  "kernelspec": {
   "display_name": "Python 3",
   "language": "python",
   "name": "python3"
  },
  "language_info": {
   "codemirror_mode": {
    "name": "ipython",
    "version": 3
   },
   "file_extension": ".py",
   "mimetype": "text/x-python",
   "name": "python",
   "nbconvert_exporter": "python",
   "pygments_lexer": "ipython3",
   "version": "3.7.4"
  }
 },
 "nbformat": 4,
 "nbformat_minor": 4
}
