{
 "cells": [
  {
   "cell_type": "markdown",
   "metadata": {},
   "source": [
    "# While Loops"
   ]
  },
  {
   "cell_type": "code",
   "execution_count": 1,
   "metadata": {},
   "outputs": [],
   "source": [
    "# while loop execute  a code so long as the condition is met. \n",
    "#It is different from for loops because for loops has an end point but while loop has no end as long as the condition is met"
   ]
  },
  {
   "cell_type": "code",
   "execution_count": 2,
   "metadata": {},
   "outputs": [
    {
     "name": "stdout",
     "output_type": "stream",
     "text": [
      "0\n",
      "1\n",
      "2\n"
     ]
    }
   ],
   "source": [
    "A = 0\n",
    "while A < 3:\n",
    "    print(A)\n",
    "    A += 1"
   ]
  },
  {
   "cell_type": "code",
   "execution_count": 3,
   "metadata": {},
   "outputs": [],
   "source": [
    "# Guessing the number"
   ]
  },
  {
   "cell_type": "code",
   "execution_count": 8,
   "metadata": {},
   "outputs": [
    {
     "name": "stdin",
     "output_type": "stream",
     "text": [
      "Guess a number between 1 and 10 2\n"
     ]
    },
    {
     "name": "stdout",
     "output_type": "stream",
     "text": [
      "Try again!\n"
     ]
    },
    {
     "name": "stdin",
     "output_type": "stream",
     "text": [
      "Guess a number between 1 and 10 1\n"
     ]
    },
    {
     "name": "stdout",
     "output_type": "stream",
     "text": [
      "Try again!\n"
     ]
    },
    {
     "name": "stdin",
     "output_type": "stream",
     "text": [
      "Guess a number between 1 and 10 3\n"
     ]
    },
    {
     "name": "stdout",
     "output_type": "stream",
     "text": [
      "Try again!\n"
     ]
    },
    {
     "name": "stdin",
     "output_type": "stream",
     "text": [
      "Guess a number between 1 and 10 4\n"
     ]
    },
    {
     "name": "stdout",
     "output_type": "stream",
     "text": [
      "Try again!\n"
     ]
    },
    {
     "name": "stdin",
     "output_type": "stream",
     "text": [
      "Guess a number between 1 and 10 5\n"
     ]
    },
    {
     "name": "stdout",
     "output_type": "stream",
     "text": [
      "Try again!\n"
     ]
    },
    {
     "name": "stdin",
     "output_type": "stream",
     "text": [
      "Guess a number between 1 and 10 6\n"
     ]
    },
    {
     "name": "stdout",
     "output_type": "stream",
     "text": [
      "Try again!\n"
     ]
    },
    {
     "name": "stdin",
     "output_type": "stream",
     "text": [
      "Guess a number between 1 and 10 7\n"
     ]
    },
    {
     "name": "stdout",
     "output_type": "stream",
     "text": [
      "Try again!\n"
     ]
    },
    {
     "name": "stdin",
     "output_type": "stream",
     "text": [
      "Guess a number between 1 and 10 8\n"
     ]
    },
    {
     "name": "stdout",
     "output_type": "stream",
     "text": [
      "Try again!\n"
     ]
    },
    {
     "name": "stdin",
     "output_type": "stream",
     "text": [
      "Guess a number between 1 and 10 9\n"
     ]
    },
    {
     "name": "stdout",
     "output_type": "stream",
     "text": [
      "Try again!\n"
     ]
    },
    {
     "name": "stdin",
     "output_type": "stream",
     "text": [
      "Guess a number between 1 and 10 10\n"
     ]
    },
    {
     "name": "stdout",
     "output_type": "stream",
     "text": [
      "You guessed it right. The number was 10\n"
     ]
    }
   ],
   "source": [
    "import random\n",
    "\n",
    "min_value = 1\n",
    "max_value = 10\n",
    "computer_number = random.randint(min_value,max_value)\n",
    "user_guess = ''\n",
    "\n",
    "while computer_number != user_guess:\n",
    "    user_guess = int(input('Guess a number between 1 and 10'))\n",
    "    \n",
    "    if user_guess != computer_number:  # != means \"is not equal\"\n",
    "        print('Try again!')\n",
    "    else:\n",
    "        print('You guessed it right. The number was', computer_number)"
   ]
  },
  {
   "cell_type": "markdown",
   "metadata": {},
   "source": [
    "# Mixing solute problem"
   ]
  },
  {
   "cell_type": "code",
   "execution_count": 12,
   "metadata": {},
   "outputs": [
    {
     "name": "stdout",
     "output_type": "stream",
     "text": [
      "Hours: 300\n",
      "Tank level when full 1500\n",
      "Salt_mass: 280.27297702304804\n"
     ]
    }
   ],
   "source": [
    "# Initial conditions\n",
    "import math\n",
    "\n",
    "tank_level = 600 #gal\n",
    "tank_capacity = 1500 #gal\n",
    "inflow_rate = 9 #gal/h\n",
    "outflow_rate = 6 #gal/h\n",
    "count_hours = 0\n",
    "salt_mass = 5 # pounds\n",
    "\n",
    "while tank_level < tank_capacity:\n",
    "    \n",
    "    # salt amount\n",
    "    salt_inflow = 1/5 * (1+ math.cos(count_hours))* inflow_rate\n",
    "    salt_outflow = salt_mass/tank_level * outflow_rate\n",
    "    salt_mass = salt_mass + salt_inflow - salt_outflow\n",
    "    \n",
    "    # water level\n",
    "    tank_level = tank_level + inflow_rate - outflow_rate\n",
    "    count_hours = count_hours + 1\n",
    "    \n",
    "print('Hours:', count_hours)\n",
    "print('Tank level when full', tank_level)\n",
    "print ('Salt_mass:', salt_mass)"
   ]
  },
  {
   "cell_type": "code",
   "execution_count": null,
   "metadata": {},
   "outputs": [],
   "source": [
    "import math\n",
    "\n",
    "tank_salt_level = 600 #gal\n",
    "tank_capacity = 1500 #gal\n",
    "inflow_rate = 9 #gal/h\n",
    "outflow_rate = 6 #gal/h\n",
    "count_hours = 0\n"
   ]
  }
 ],
 "metadata": {
  "kernelspec": {
   "display_name": "Python 3",
   "language": "python",
   "name": "python3"
  },
  "language_info": {
   "codemirror_mode": {
    "name": "ipython",
    "version": 3
   },
   "file_extension": ".py",
   "mimetype": "text/x-python",
   "name": "python",
   "nbconvert_exporter": "python",
   "pygments_lexer": "ipython3",
   "version": "3.7.4"
  }
 },
 "nbformat": 4,
 "nbformat_minor": 4
}
