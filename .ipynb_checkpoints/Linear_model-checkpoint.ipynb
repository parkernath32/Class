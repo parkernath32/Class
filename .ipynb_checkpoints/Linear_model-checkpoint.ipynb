{
 "cells": [
  {
   "cell_type": "markdown",
   "metadata": {},
   "source": [
    "# Linear Model"
   ]
  },
  {
   "cell_type": "code",
   "execution_count": 158,
   "metadata": {},
   "outputs": [],
   "source": [
    "# Import modules\n",
    "import numpy as np\n",
    "import pandas as pd\n",
    "import matplotlib.pyplot as plt\n",
    "\n",
    "from scipy import stats"
   ]
  },
  {
   "cell_type": "code",
   "execution_count": 159,
   "metadata": {},
   "outputs": [
    {
     "name": "stdout",
     "output_type": "stream",
     "text": [
      "C:\\Users\\Parker\\Dropbox\\Nathaniel Parker\\KSU_Coursework\\Spring 2020\\Introduction to Scientific Programming\\datasets\n"
     ]
    }
   ],
   "source": [
    "import glob\n",
    "print(glob.os.getcwd())"
   ]
  },
  {
   "cell_type": "code",
   "execution_count": 160,
   "metadata": {},
   "outputs": [
    {
     "name": "stdout",
     "output_type": "stream",
     "text": [
      "C:\\Users\\Parker\\Dropbox\\Nathaniel Parker\\KSU_Coursework\\Spring 2020\\Introduction to Scientific Programming\\datasets\n"
     ]
    }
   ],
   "source": [
    "glob.os.chdir('..\\datasets')\n",
    "print(glob.os.getcwd())"
   ]
  },
  {
   "cell_type": "code",
   "execution_count": 161,
   "metadata": {},
   "outputs": [
    {
     "data": {
      "text/html": [
       "<div>\n",
       "<style scoped>\n",
       "    .dataframe tbody tr th:only-of-type {\n",
       "        vertical-align: middle;\n",
       "    }\n",
       "\n",
       "    .dataframe tbody tr th {\n",
       "        vertical-align: top;\n",
       "    }\n",
       "\n",
       "    .dataframe thead th {\n",
       "        text-align: right;\n",
       "    }\n",
       "</style>\n",
       "<table border=\"1\" class=\"dataframe\">\n",
       "  <thead>\n",
       "    <tr style=\"text-align: right;\">\n",
       "      <th></th>\n",
       "      <th>TIMESTAMP</th>\n",
       "      <th>STATION</th>\n",
       "      <th>PRESSUREAVG</th>\n",
       "      <th>PRESSUREMAX</th>\n",
       "      <th>PRESSUREMIN</th>\n",
       "      <th>SLPAVG</th>\n",
       "      <th>TEMP2MAVG</th>\n",
       "      <th>TEMP2MMIN</th>\n",
       "      <th>TEMP2MMAX</th>\n",
       "      <th>TEMP10MAVG</th>\n",
       "      <th>...</th>\n",
       "      <th>SOILTMP10MAX</th>\n",
       "      <th>SOILTMP10MIN</th>\n",
       "      <th>SOILTMP5AVG655</th>\n",
       "      <th>SOILTMP10AVG655</th>\n",
       "      <th>SOILTMP20AVG655</th>\n",
       "      <th>SOILTMP50AVG655</th>\n",
       "      <th>VWC5CM</th>\n",
       "      <th>VWC10CM</th>\n",
       "      <th>VWC20CM</th>\n",
       "      <th>VWC50CM</th>\n",
       "    </tr>\n",
       "  </thead>\n",
       "  <tbody>\n",
       "    <tr>\n",
       "      <td>0</td>\n",
       "      <td>1/1/18 0:00</td>\n",
       "      <td>Gypsum</td>\n",
       "      <td>99.44</td>\n",
       "      <td>100.03</td>\n",
       "      <td>98.73</td>\n",
       "      <td>104.44</td>\n",
       "      <td>-15.15</td>\n",
       "      <td>-19.56</td>\n",
       "      <td>-11.00</td>\n",
       "      <td>-15.31</td>\n",
       "      <td>...</td>\n",
       "      <td>-1.18</td>\n",
       "      <td>-2.45</td>\n",
       "      <td>-1.33</td>\n",
       "      <td>-1.14</td>\n",
       "      <td>0.74</td>\n",
       "      <td>3.50</td>\n",
       "      <td>0.1377</td>\n",
       "      <td>0.1167</td>\n",
       "      <td>0.2665</td>\n",
       "      <td>0.2203</td>\n",
       "    </tr>\n",
       "    <tr>\n",
       "      <td>1</td>\n",
       "      <td>1/2/18 0:00</td>\n",
       "      <td>Gypsum</td>\n",
       "      <td>99.79</td>\n",
       "      <td>100.14</td>\n",
       "      <td>99.40</td>\n",
       "      <td>104.88</td>\n",
       "      <td>-16.48</td>\n",
       "      <td>-22.10</td>\n",
       "      <td>-10.40</td>\n",
       "      <td>-16.38</td>\n",
       "      <td>...</td>\n",
       "      <td>-1.56</td>\n",
       "      <td>-3.46</td>\n",
       "      <td>-2.10</td>\n",
       "      <td>-1.82</td>\n",
       "      <td>0.28</td>\n",
       "      <td>3.13</td>\n",
       "      <td>0.1234</td>\n",
       "      <td>0.1021</td>\n",
       "      <td>0.2642</td>\n",
       "      <td>0.2196</td>\n",
       "    </tr>\n",
       "    <tr>\n",
       "      <td>2</td>\n",
       "      <td>1/3/18 0:00</td>\n",
       "      <td>Gypsum</td>\n",
       "      <td>98.87</td>\n",
       "      <td>99.52</td>\n",
       "      <td>97.94</td>\n",
       "      <td>103.81</td>\n",
       "      <td>-11.03</td>\n",
       "      <td>-20.64</td>\n",
       "      <td>-2.71</td>\n",
       "      <td>-10.66</td>\n",
       "      <td>...</td>\n",
       "      <td>-1.49</td>\n",
       "      <td>-3.61</td>\n",
       "      <td>-2.21</td>\n",
       "      <td>-1.93</td>\n",
       "      <td>-0.08</td>\n",
       "      <td>2.76</td>\n",
       "      <td>0.1206</td>\n",
       "      <td>0.0965</td>\n",
       "      <td>0.2353</td>\n",
       "      <td>0.2189</td>\n",
       "    </tr>\n",
       "    <tr>\n",
       "      <td>3</td>\n",
       "      <td>1/4/18 0:00</td>\n",
       "      <td>Gypsum</td>\n",
       "      <td>98.22</td>\n",
       "      <td>98.54</td>\n",
       "      <td>97.90</td>\n",
       "      <td>102.99</td>\n",
       "      <td>-5.83</td>\n",
       "      <td>-11.79</td>\n",
       "      <td>0.24</td>\n",
       "      <td>-5.01</td>\n",
       "      <td>...</td>\n",
       "      <td>-0.98</td>\n",
       "      <td>-2.67</td>\n",
       "      <td>-1.60</td>\n",
       "      <td>-1.46</td>\n",
       "      <td>-0.21</td>\n",
       "      <td>2.45</td>\n",
       "      <td>0.1235</td>\n",
       "      <td>0.0973</td>\n",
       "      <td>0.2094</td>\n",
       "      <td>0.2182</td>\n",
       "    </tr>\n",
       "    <tr>\n",
       "      <td>4</td>\n",
       "      <td>1/5/18 0:00</td>\n",
       "      <td>Gypsum</td>\n",
       "      <td>98.10</td>\n",
       "      <td>98.42</td>\n",
       "      <td>97.75</td>\n",
       "      <td>102.88</td>\n",
       "      <td>-4.73</td>\n",
       "      <td>-14.22</td>\n",
       "      <td>5.36</td>\n",
       "      <td>-4.23</td>\n",
       "      <td>...</td>\n",
       "      <td>-0.72</td>\n",
       "      <td>-2.81</td>\n",
       "      <td>-1.54</td>\n",
       "      <td>-1.38</td>\n",
       "      <td>-0.25</td>\n",
       "      <td>2.25</td>\n",
       "      <td>0.1249</td>\n",
       "      <td>0.0976</td>\n",
       "      <td>0.2047</td>\n",
       "      <td>0.2180</td>\n",
       "    </tr>\n",
       "  </tbody>\n",
       "</table>\n",
       "<p>5 rows × 44 columns</p>\n",
       "</div>"
      ],
      "text/plain": [
       "     TIMESTAMP STATION  PRESSUREAVG  PRESSUREMAX  PRESSUREMIN  SLPAVG  \\\n",
       "0  1/1/18 0:00  Gypsum        99.44       100.03        98.73  104.44   \n",
       "1  1/2/18 0:00  Gypsum        99.79       100.14        99.40  104.88   \n",
       "2  1/3/18 0:00  Gypsum        98.87        99.52        97.94  103.81   \n",
       "3  1/4/18 0:00  Gypsum        98.22        98.54        97.90  102.99   \n",
       "4  1/5/18 0:00  Gypsum        98.10        98.42        97.75  102.88   \n",
       "\n",
       "   TEMP2MAVG  TEMP2MMIN  TEMP2MMAX  TEMP10MAVG  ...  SOILTMP10MAX  \\\n",
       "0     -15.15     -19.56     -11.00      -15.31  ...         -1.18   \n",
       "1     -16.48     -22.10     -10.40      -16.38  ...         -1.56   \n",
       "2     -11.03     -20.64      -2.71      -10.66  ...         -1.49   \n",
       "3      -5.83     -11.79       0.24       -5.01  ...         -0.98   \n",
       "4      -4.73     -14.22       5.36       -4.23  ...         -0.72   \n",
       "\n",
       "   SOILTMP10MIN  SOILTMP5AVG655  SOILTMP10AVG655  SOILTMP20AVG655  \\\n",
       "0         -2.45           -1.33            -1.14             0.74   \n",
       "1         -3.46           -2.10            -1.82             0.28   \n",
       "2         -3.61           -2.21            -1.93            -0.08   \n",
       "3         -2.67           -1.60            -1.46            -0.21   \n",
       "4         -2.81           -1.54            -1.38            -0.25   \n",
       "\n",
       "   SOILTMP50AVG655  VWC5CM  VWC10CM  VWC20CM  VWC50CM  \n",
       "0             3.50  0.1377   0.1167   0.2665   0.2203  \n",
       "1             3.13  0.1234   0.1021   0.2642   0.2196  \n",
       "2             2.76  0.1206   0.0965   0.2353   0.2189  \n",
       "3             2.45  0.1235   0.0973   0.2094   0.2182  \n",
       "4             2.25  0.1249   0.0976   0.2047   0.2180  \n",
       "\n",
       "[5 rows x 44 columns]"
      ]
     },
     "execution_count": 161,
     "metadata": {},
     "output_type": "execute_result"
    }
   ],
   "source": [
    "df = pd.read_csv('gypsum_ks_daily_2018.csv')\n",
    "df.head()\n"
   ]
  },
  {
   "cell_type": "code",
   "execution_count": 162,
   "metadata": {},
   "outputs": [
    {
     "data": {
      "text/plain": [
       "TIMESTAMP          0\n",
       "STATION            0\n",
       "PRESSUREAVG        0\n",
       "PRESSUREMAX        0\n",
       "PRESSUREMIN        0\n",
       "SLPAVG             0\n",
       "TEMP2MAVG          1\n",
       "TEMP2MMIN          1\n",
       "TEMP2MMAX          2\n",
       "TEMP10MAVG         0\n",
       "TEMP10MMIN         1\n",
       "TEMP10MMAX         2\n",
       "RELHUM2MAVG        0\n",
       "RELHUM2MMAX        0\n",
       "RELHUM2MMIN        1\n",
       "RELHUM10MAVG       0\n",
       "RELHUM10MMAX       0\n",
       "RELHUM10MMIN       1\n",
       "VPDEFAVG           1\n",
       "PRECIP             0\n",
       "SRAVG              0\n",
       "SR                 0\n",
       "WSPD2MAVG          0\n",
       "WSPD2MMAX          0\n",
       "WSPD10MAVG         0\n",
       "WSPD10MMAX         0\n",
       "WDIR2M             0\n",
       "WDIR2MSTD          0\n",
       "WDIR10M            0\n",
       "WDIR10MSTD         0\n",
       "SOILTMP5AVG        0\n",
       "SOILTMP5MAX        0\n",
       "SOILTMP5MIN        0\n",
       "SOILTMP10AVG       0\n",
       "SOILTMP10MAX       0\n",
       "SOILTMP10MIN       0\n",
       "SOILTMP5AVG655     0\n",
       "SOILTMP10AVG655    0\n",
       "SOILTMP20AVG655    0\n",
       "SOILTMP50AVG655    0\n",
       "VWC5CM             0\n",
       "VWC10CM            0\n",
       "VWC20CM            0\n",
       "VWC50CM            0\n",
       "dtype: int64"
      ]
     },
     "execution_count": 162,
     "metadata": {},
     "output_type": "execute_result"
    }
   ],
   "source": [
    "# Check for missing values\n",
    "\n",
    "df.isna().sum()\n",
    "\n",
    "## Note that the inclusion of \".sum()\" tells the number of NaN values under each column header, \n",
    "## while excluding it will only give only True or False responses."
   ]
  },
  {
   "cell_type": "code",
   "execution_count": 163,
   "metadata": {},
   "outputs": [],
   "source": [
    "# Fill missing values\n",
    "\n",
    "## See \"df.fillna?\". Backfilling will replace the NaNs with their corresponding next values in the column\n",
    "\n",
    "df = df.fillna(method='backfill')\n"
   ]
  },
  {
   "cell_type": "code",
   "execution_count": 164,
   "metadata": {},
   "outputs": [
    {
     "data": {
      "image/png": "[encoded data removed]",
      "text/plain": [
       "<Figure size 720x432 with 1 Axes>"
      ]
     },
     "metadata": {
      "needs_background": "light"
     },
     "output_type": "display_data"
    }
   ],
   "source": [
    "# Interpolate missing data\n",
    "\n",
    "plt.figure(figsize=(10,6))\n",
    "plt.scatter(df[\"TEMP2MAVG\"],df[\"SOILTMP5AVG655\"])\n",
    "plt.ylabel('Soil temperature at 5 cm depth (Celsius)')\n",
    "plt.xlabel('Air temperature at 2 m height (Celsius)')\n",
    "plt.show()"
   ]
  },
  {
   "cell_type": "code",
   "execution_count": 165,
   "metadata": {},
   "outputs": [
    {
     "name": "stdout",
     "output_type": "stream",
     "text": [
      "slope =  0.8667839222050925\n",
      "intercept =  3.503863329087279\n",
      "rvalue=  0.9480160047071208\n",
      "pvalue =  1.3681157460914346e-182\n",
      "stderr =  0.015271192545326313\n"
     ]
    }
   ],
   "source": [
    "# Fitting a linear regression model to the observations\n",
    "\n",
    "fit_info= stats.linregress(df[\"TEMP2MAVG\"],df[\"SOILTMP5AVG655\"])\n",
    "print('slope = ', fit_info.slope)\n",
    "print('intercept = ', fit_info.intercept)\n",
    "print('rvalue= ', fit_info.rvalue)\n",
    "print('pvalue = ', fit_info.pvalue)\n",
    "print('stderr = ', fit_info.stderr)\n",
    "      "
   ]
  },
  {
   "cell_type": "code",
   "execution_count": 166,
   "metadata": {},
   "outputs": [],
   "source": [
    "# Generating the predicted soil temperature \n",
    "\n",
    "soiltemp_pred = fit_info.slope*df[\"TEMP2MAVG\"]+ fit_info.intercept "
   ]
  },
  {
   "cell_type": "code",
   "execution_count": 167,
   "metadata": {},
   "outputs": [
    {
     "data": {
      "image/png": "[encoded data removed]",
      "text/plain": [
       "<Figure size 720x432 with 1 Axes>"
      ]
     },
     "metadata": {
      "needs_background": "light"
     },
     "output_type": "display_data"
    }
   ],
   "source": [
    "plt.figure(figsize=(10,6))\n",
    "plt.scatter(df[\"TEMP2MAVG\"],df[\"SOILTMP5AVG655\"])\n",
    "plt.plot(df[\"TEMP2MAVG\"],soiltemp_pred,'k')\n",
    "plt.ylabel('Observed Soil temperature at 5 cm depth (Celsius)')\n",
    "plt.xlabel('Predicted Soil temperature at 5 cm depth (Celsius)')\n",
    "plt.show()"
   ]
  },
  {
   "cell_type": "code",
   "execution_count": 168,
   "metadata": {},
   "outputs": [
    {
     "data": {
      "text/plain": [
       "<function matplotlib.pyplot.show(*args, **kw)>"
      ]
     },
     "execution_count": 168,
     "metadata": {},
     "output_type": "execute_result"
    },
    {
     "data": {
      "image/png": "[encoded data removed]",
      "text/plain": [
       "<Figure size 432x288 with 1 Axes>"
      ]
     },
     "metadata": {
      "needs_background": "light"
     },
     "output_type": "display_data"
    }
   ],
   "source": [
    "# Plot residuals\n",
    "\n",
    "residuals = df[\"SOILTMP5AVG655\"]- soiltemp_pred\n",
    "plt.scatter( df[\"SOILTMP5AVG655\"],residuals)\n",
    "plt.show\n"
   ]
  },
  {
   "cell_type": "code",
   "execution_count": 169,
   "metadata": {},
   "outputs": [
    {
     "name": "stdout",
     "output_type": "stream",
     "text": [
      "RMSE: 3.378924875273265 Celcius\n",
      "Median Absolute Error: 2.2125798968479704 Celcius\n",
      "Median Absolute deviation =  3.19157294892705 Celcius\n"
     ]
    }
   ],
   "source": [
    "# Error metrics\n",
    "\n",
    "RMSE = np.sqrt(np.mean(residuals**2))\n",
    "MAE = np.median(np.abs(residuals))\n",
    "MAD = stats.median_absolute_deviation(residuals)\n",
    "print('RMSE:',RMSE,'Celcius')\n",
    "print('Median Absolute Error:',MAE,'Celcius')\n",
    "print ('Median Absolute deviation = ',MAD,'Celcius' )"
   ]
  }
 ],
 "metadata": {
  "kernelspec": {
   "display_name": "Python 3",
   "language": "python",
   "name": "python3"
  },
  "language_info": {
   "codemirror_mode": {
    "name": "ipython",
    "version": 3
   },
   "file_extension": ".py",
   "mimetype": "text/x-python",
   "name": "python",
   "nbconvert_exporter": "python",
   "pygments_lexer": "ipython3",
   "version": "3.7.4"
  }
 },
 "nbformat": 4,
 "nbformat_minor": 4
}
